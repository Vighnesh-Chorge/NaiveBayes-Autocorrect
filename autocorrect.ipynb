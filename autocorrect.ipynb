{
 "cells": [
  {
   "cell_type": "code",
   "execution_count": 2,
   "metadata": {
    "id": "xtNYehwVBKyD"
   },
   "outputs": [
    {
     "name": "stdout",
     "output_type": "stream",
     "text": [
      "Collecting editdistance\n",
      "  Downloading editdistance-0.8.1-cp311-cp311-win_amd64.whl.metadata (3.9 kB)\n",
      "Downloading editdistance-0.8.1-cp311-cp311-win_amd64.whl (79 kB)\n",
      "   ---------------------------------------- 0.0/79.7 kB ? eta -:--:--\n",
      "   ----- ---------------------------------- 10.2/79.7 kB ? eta -:--:--\n",
      "   ----- ---------------------------------- 10.2/79.7 kB ? eta -:--:--\n",
      "   --------------- ------------------------ 30.7/79.7 kB 186.2 kB/s eta 0:00:01\n",
      "   --------------- ------------------------ 30.7/79.7 kB 186.2 kB/s eta 0:00:01\n",
      "   --------------- ------------------------ 30.7/79.7 kB 186.2 kB/s eta 0:00:01\n",
      "   --------------- ------------------------ 30.7/79.7 kB 186.2 kB/s eta 0:00:01\n",
      "   --------------- ------------------------ 30.7/79.7 kB 186.2 kB/s eta 0:00:01\n",
      "   --------------- ------------------------ 30.7/79.7 kB 186.2 kB/s eta 0:00:01\n",
      "   --------------- ------------------------ 30.7/79.7 kB 186.2 kB/s eta 0:00:01\n",
      "   --------------- ------------------------ 30.7/79.7 kB 186.2 kB/s eta 0:00:01\n",
      "   ------------------------------ --------- 61.4/79.7 kB 102.4 kB/s eta 0:00:01\n",
      "   ------------------------------ --------- 61.4/79.7 kB 102.4 kB/s eta 0:00:01\n",
      "   ----------------------------------- ---- 71.7/79.7 kB 103.4 kB/s eta 0:00:01\n",
      "   ---------------------------------------- 79.7/79.7 kB 113.9 kB/s eta 0:00:00\n",
      "Installing collected packages: editdistance\n",
      "Successfully installed editdistance-0.8.1\n",
      "Note: you may need to restart the kernel to use updated packages.\n"
     ]
    }
   ],
   "source": [
    "pip install editdistance\n"
   ]
  },
  {
   "cell_type": "code",
   "execution_count": 3,
   "metadata": {},
   "outputs": [
    {
     "name": "stdout",
     "output_type": "stream",
     "text": [
      "Suggestions for 'helo':\n",
      "hello (Probability: 0.05)\n",
      "world (Probability: 0.020000000000000004)\n",
      "data (Probability: 0.020000000000000004)\n",
      "python (Probability: 0.016666666666666666)\n",
      "machine (Probability: 0.014285714285714285)\n"
     ]
    }
   ],
   "source": [
    "from collections import Counter\n",
    "import editdistance\n",
    "\n",
    "# Sample corpus for word frequencies (unigram model)\n",
    "corpus = [\"hello\", \"world\", \"python\", \"programming\", \"machine\", \"learning\", \"artificial\", \"intelligence\", \"data\", \"science\"]\n",
    "word_counts = Counter(corpus)\n",
    "total_words = sum(word_counts.values())\n",
    "\n",
    "# Calculate P(C) for each word in the vocabulary\n",
    "def calculate_prior(word_counts, total_words):\n",
    "    prior_probabilities = {}\n",
    "    for word, count in word_counts.items():\n",
    "        prior_probabilities[word] = count / total_words\n",
    "    return prior_probabilities\n",
    "\n",
    "# Calculate P(W|C) using edit distance (simplified model)\n",
    "def calculate_likelihood(misspelled, correct):\n",
    "    # Assume a simple model where edit distance gives the likelihood\n",
    "    # For simplicity, we use 1 / (edit distance + 1)\n",
    "    distance = editdistance.eval(misspelled, correct)\n",
    "    return 1 / (distance + 1)\n",
    "\n",
    "# Naive Bayes autocorrect function\n",
    "def autocorrect_naive_bayes(word, word_counts, total_words, max_candidates=5):\n",
    "    prior_probabilities = calculate_prior(word_counts, total_words)\n",
    "    candidates = []\n",
    "\n",
    "    # Calculate P(C|W) for each word in the vocabulary\n",
    "    for candidate in word_counts.keys():\n",
    "        prior = prior_probabilities.get(candidate, 0)\n",
    "        likelihood = calculate_likelihood(word, candidate)\n",
    "        posterior = prior * likelihood\n",
    "        candidates.append((candidate, posterior))\n",
    "    \n",
    "    # Sort candidates by posterior probability\n",
    "    candidates.sort(key=lambda x: x[1], reverse=True)\n",
    "    return candidates[:max_candidates]\n",
    "\n",
    "# Test the function\n",
    "misspelled_word = \"helo\"\n",
    "suggestions = autocorrect_naive_bayes(misspelled_word, word_counts, total_words)\n",
    "\n",
    "print(f\"Suggestions for '{misspelled_word}':\")\n",
    "for suggestion, prob in suggestions:\n",
    "    print(f\"{suggestion} (Probability: {prob})\")\n"
   ]
  },
  {
   "cell_type": "code",
   "execution_count": null,
   "metadata": {},
   "outputs": [],
   "source": []
  }
 ],
 "metadata": {
  "colab": {
   "provenance": []
  },
  "kernelspec": {
   "display_name": "Python 3 (ipykernel)",
   "language": "python",
   "name": "python3"
  },
  "language_info": {
   "codemirror_mode": {
    "name": "ipython",
    "version": 3
   },
   "file_extension": ".py",
   "mimetype": "text/x-python",
   "name": "python",
   "nbconvert_exporter": "python",
   "pygments_lexer": "ipython3",
   "version": "3.11.7"
  }
 },
 "nbformat": 4,
 "nbformat_minor": 4
}
